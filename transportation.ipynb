{
 "cells": [
  {
   "cell_type": "markdown",
   "id": "dfec3dca",
   "metadata": {},
   "source": [
    "### API to create Asset Transport Request\n",
    "\n",
    "API Details:-\n",
    "\n",
    "POST /requester/transport-asset/\n",
    "{\n",
    "    \"source\": \"Bangalore\",\n",
    "    \"destination\": \"Mumbai\",\n",
    "    \"datetime\": \"2023-01-02 02:00:00.000000+00:00\",\n",
    "    \"no_of_assets\": 4,\n",
    "    \"asset_type\": \"laptop\",\n",
    "    \"asset_sensitivity\": \"high\",\n",
    "    \"status\": \"expired\",\n",
    "    \"whom_to_deliver\": \"8098788765 - Receipient Name\"\n",
    "}\n",
    "\n",
    "\n",
    "{\n",
    "    \"id\": \"8583ac8d-78a4-4163-bb7d-e02d28398210\"\n",
    "}"
   ]
  },
  {
   "cell_type": "code",
   "execution_count": 2,
   "id": "ffc1efad",
   "metadata": {},
   "outputs": [
    {
     "name": "stdout",
     "output_type": "stream",
     "text": [
      "{'id': 'ddae44a9-d2f6-4bb2-aa4f-d1ab632d96c7'}\n"
     ]
    }
   ],
   "source": [
    "import requests\n",
    "import json\n",
    "\n",
    "url = \"http://localhost:9001/requester/transport-asset/\"\n",
    "\n",
    "payload = json.dumps({\n",
    "  \"source\": \"Bangalore\",\n",
    "  \"destination\": \"Mumbai\",\n",
    "  \"datetime\": \"2023-01-02 02:00:00.000000+00:00\",\n",
    "  \"no_of_assets\": 4,\n",
    "  \"asset_type\": \"laptop\",\n",
    "  \"asset_sensitivity\": \"high\",\n",
    "  \"status\": \"expired\",\n",
    "  \"whom_to_deliver\": \"8098788765 - Receipient Name\"\n",
    "})\n",
    "headers = {\n",
    "  'Content-Type': 'application/json'\n",
    "}\n",
    "\n",
    "response = requests.request(\"POST\", url, headers=headers, data=payload)\n",
    "\n",
    "print(response.json())"
   ]
  },
  {
   "cell_type": "markdown",
   "id": "ef8a021d",
   "metadata": {},
   "source": [
    "### API to get all Asset Transport Requests\n",
    "\n",
    "API Details:-\n",
    "\n",
    "GET /requester/transport-asset/\n",
    "\n",
    "Query Params:-\n",
    "page=1                           # for accesing specific page\n",
    "page_size=10                     # num of entries per page\n",
    "ordering=-ride_info__datetime    # sort by datetime \n",
    "status=expired                   # filter by status\n",
    "asset_type=laptop                # filter by asset_type\n",
    "\n",
    "\n",
    "#### Response\n",
    "{\n",
    "    \"link\": {\n",
    "        \"next\": \"requester/transport-asset/?page=2&page_size=3&ordering=-ride_info__datetime&status=expired&asset_type=laptop\"\n",
    "    },\n",
    "    \"count\": 13,\n",
    "    \"results\": [\n",
    "        {\n",
    "            \"no_of_assets\": 12,\n",
    "            \"asset_type\": \"laptop\",\n",
    "            \"asset_sensitivity\": \"high\",\n",
    "            \"status\": \"expired\",\n",
    "            \"whom_to_deliver\": \"837493473434-Son of Anton\",\n",
    "            \"source\": \"Bangalore\",\n",
    "            \"destination\": \"Mumbai\",\n",
    "            \"datetime\": \"2023-01-02T02:55:59.516700Z\"\n",
    "        },\n",
    "        {\n",
    "            \"no_of_assets\": 12,\n",
    "            \"asset_type\": \"laptop\",\n",
    "            \"asset_sensitivity\": \"high\",\n",
    "            \"status\": \"expired\",\n",
    "            \"whom_to_deliver\": \"837493473434-Son of Anton\",\n",
    "            \"source\": \"Bangalore\",\n",
    "            \"destination\": \"Mumbai\",\n",
    "            \"datetime\": \"2023-01-02T02:55:59.516700Z\"\n",
    "        },\n",
    "        {\n",
    "            \"no_of_assets\": 12,\n",
    "            \"asset_type\": \"laptop\",\n",
    "            \"asset_sensitivity\": \"high\",\n",
    "            \"status\": \"expired\",\n",
    "            \"whom_to_deliver\": \"837493473434-Son of Anton\",\n",
    "            \"source\": \"Bangalore\",\n",
    "            \"destination\": \"Mumbai\",\n",
    "            \"datetime\": \"2023-01-02T02:55:59.516700Z\"\n",
    "        }\n",
    "    ]\n",
    "}"
   ]
  },
  {
   "cell_type": "code",
   "execution_count": 4,
   "id": "262ae7cf",
   "metadata": {},
   "outputs": [
    {
     "name": "stdout",
     "output_type": "stream",
     "text": [
      "{'link': {'next': 'requester/transport-asset/?page=2&page_size=3&ordering=-ride_info__datetime&status=expired&asset_type=laptop'}, 'count': 13, 'results': [{'no_of_assets': 12, 'asset_type': 'laptop', 'asset_sensitivity': 'high', 'status': 'expired', 'whom_to_deliver': '837493473434-Son of Anton', 'source': 'Bangalore', 'destination': 'Mumbai', 'datetime': '2023-01-02T02:55:59.516700Z'}, {'no_of_assets': 12, 'asset_type': 'laptop', 'asset_sensitivity': 'high', 'status': 'expired', 'whom_to_deliver': '837493473434-Son of Anton', 'source': 'Bangalore', 'destination': 'Mumbai', 'datetime': '2023-01-02T02:55:59.516700Z'}, {'no_of_assets': 12, 'asset_type': 'laptop', 'asset_sensitivity': 'high', 'status': 'expired', 'whom_to_deliver': '837493473434-Son of Anton', 'source': 'Bangalore', 'destination': 'Mumbai', 'datetime': '2023-01-02T02:55:59.516700Z'}]}\n"
     ]
    }
   ],
   "source": [
    "import requests\n",
    "import json\n",
    "\n",
    "url = \"http://localhost:9001/requester/transport-asset/?page_size=3&page=1&ordering=-ride_info__datetime&status=expired&asset_type=laptop\"\n",
    "\n",
    "payload = json.dumps({\n",
    "  \"source\": \"Bangalore\",\n",
    "  \"destination\": \"Mumbai\",\n",
    "  \"pick_on\": \"2022-12- 02:55:59.516700+00:00\",\n",
    "  \"no_of_assets\": 12,\n",
    "  \"asset_type\": \"laptop\",\n",
    "  \"asset_sensitivity\": \"high\",\n",
    "  \"status\": \"pending\",\n",
    "  \"whom_to_deliver\": \"837493473434-Son of Anton\"\n",
    "})\n",
    "headers = {\n",
    "  'Content-Type': 'application/json'\n",
    "}\n",
    "\n",
    "response = requests.request(\"GET\", url, headers=headers, data=payload)\n",
    "\n",
    "print(response.json())\n"
   ]
  },
  {
   "cell_type": "code",
   "execution_count": null,
   "id": "30798521",
   "metadata": {},
   "outputs": [],
   "source": [
    "\n"
   ]
  },
  {
   "cell_type": "markdown",
   "id": "72588db2",
   "metadata": {},
   "source": [
    "### API To create a Ride\n",
    "\n",
    "\n",
    "API Details:-\n",
    "\n",
    "POST /rider/travel-info/\n",
    "{\n",
    "    \"source\": \"Bangalore\",\n",
    "    \"destination\": \"Mumbai\",\n",
    "    \"datetime\": \"2023-01-03 02:55:59.516700+00:00\",\n",
    "    \"no_of_assets\": 12,\n",
    "    \"travel_medium\": \"bus\"\n",
    "}\n",
    "\n",
    "\n",
    "{\n",
    "    \"id\": \"81a84a31-e2ad-4e99-805e-c521f131f603\"\n",
    "}"
   ]
  },
  {
   "cell_type": "code",
   "execution_count": null,
   "id": "235843fc",
   "metadata": {},
   "outputs": [],
   "source": [
    "import requests\n",
    "import json\n",
    "\n",
    "url = \"http://localhost:9001/rider/travel-info/\"\n",
    "\n",
    "payload = json.dumps({\n",
    "  \"source\": \"Bangalore\",\n",
    "  \"destination\": \"Mumbai\",\n",
    "  \"datetime\": \"2023-01-03 02:55:59.516700+00:00\",\n",
    "  \"no_of_assets\": 12,\n",
    "  \"travel_medium\": \"bus\"\n",
    "})\n",
    "headers = {\n",
    "  'Content-Type': 'application/json'\n",
    "}\n",
    "\n",
    "response = requests.request(\"POST\", url, headers=headers, data=payload)\n",
    "\n",
    "print(response.text)"
   ]
  },
  {
   "cell_type": "code",
   "execution_count": null,
   "id": "77046f3b",
   "metadata": {},
   "outputs": [],
   "source": []
  },
  {
   "cell_type": "markdown",
   "id": "16b1bd3d",
   "metadata": {},
   "source": [
    "### API To apply for a Ride\n",
    "\n",
    "\n",
    "API Details:-\n",
    "\n",
    "PUT /rider/travel-info/12e0ce2f-4f20-4d56-8d46-dfa40091b923/\n",
    "{\n",
    "    \"status\": \"applied\",\n",
    "    \"ride_accepted_by\": \"324234-sodledlr\"\n",
    "}\n",
    "\n"
   ]
  },
  {
   "cell_type": "code",
   "execution_count": null,
   "id": "2eaaba58",
   "metadata": {},
   "outputs": [],
   "source": []
  },
  {
   "cell_type": "code",
   "execution_count": 5,
   "id": "c6cf6aaa",
   "metadata": {},
   "outputs": [
    {
     "name": "stdout",
     "output_type": "stream",
     "text": [
      "\n"
     ]
    }
   ],
   "source": [
    "import requests\n",
    "import json\n",
    "\n",
    "url = \"http://localhost:9001/rider/travel-info/12e0ce2f-4f20-4d56-8d46-dfa40091b923/\"\n",
    "\n",
    "payload = json.dumps({\n",
    "  \"status\": \"applied\",\n",
    "  \"ride_accepted_by\": \"324234-sodledlr\"\n",
    "})\n",
    "headers = {\n",
    "  'Content-Type': 'application/json'\n",
    "}\n",
    "\n",
    "response = requests.request(\"PUT\", url, headers=headers, data=payload)\n",
    "\n",
    "print(response.text)"
   ]
  },
  {
   "cell_type": "code",
   "execution_count": null,
   "id": "fba74cc2",
   "metadata": {},
   "outputs": [],
   "source": []
  },
  {
   "cell_type": "markdown",
   "id": "ef52e9c8",
   "metadata": {},
   "source": [
    "### API To get matched Riders \n",
    "\n",
    "\n",
    "API Details:-\n",
    "\n",
    "GET /rider/travel-info/?page_size=10&page=1&matched_rides_only=true\n"
   ]
  },
  {
   "cell_type": "code",
   "execution_count": 7,
   "id": "0e982d97",
   "metadata": {},
   "outputs": [
    {
     "name": "stdout",
     "output_type": "stream",
     "text": [
      "{\"link\":{},\"count\":1,\"results\":[{\"no_of_assets\":12,\"travel_medium\":\"bus\",\"status\":\"applied\",\"ride_accepted_by\":null,\"source\":\"Bangalore\",\"destination\":\"Mumbai\",\"datetime\":\"2023-01-02T02:55:59.516700Z\"}]}\n"
     ]
    }
   ],
   "source": [
    "import requests\n",
    "\n",
    "url = \"http://localhost:9001/rider/travel-info/?page_size=10&page=1&matched_rides_only=true\"\n",
    "\n",
    "payload={}\n",
    "headers = {}\n",
    "\n",
    "response = requests.request(\"GET\", url, headers=headers, data=payload)\n",
    "\n",
    "print(response.text)"
   ]
  },
  {
   "cell_type": "code",
   "execution_count": null,
   "id": "f02e9b36",
   "metadata": {},
   "outputs": [],
   "source": []
  }
 ],
 "metadata": {
  "kernelspec": {
   "display_name": "Python 3 (ipykernel)",
   "language": "python",
   "name": "python3"
  },
  "language_info": {
   "codemirror_mode": {
    "name": "ipython",
    "version": 3
   },
   "file_extension": ".py",
   "mimetype": "text/x-python",
   "name": "python",
   "nbconvert_exporter": "python",
   "pygments_lexer": "ipython3",
   "version": "3.8.3"
  }
 },
 "nbformat": 4,
 "nbformat_minor": 5
}
